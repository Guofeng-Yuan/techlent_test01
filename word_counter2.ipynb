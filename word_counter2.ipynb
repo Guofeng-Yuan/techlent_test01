{
 "cells": [
  {
   "cell_type": "code",
   "execution_count": 1,
   "id": "f3c1898f",
   "metadata": {
    "scrolled": true
   },
   "outputs": [],
   "source": [
    "import pandas as pd\n",
    "import re\n",
    "import nltk\n",
    "import gensim\n",
    "\n",
    "train_df = pd.read_csv(\"../../kaggle_data/train_data.txt\",\n",
    "                       engine=\"python\",\n",
    "                       sep=\" ::: \",\n",
    "                       names=['id', \"movie\", \"genre\", \"summary\"])\n",
    "\n",
    "test_df = pd.read_csv(\"../../kaggle_data/test_data_solution.txt\",\n",
    "                      engine=\"python\",\n",
    "                      sep=\" ::: \",\n",
    "                      names=['id', \"movie\", \"genre\", \"summary\"])\n"
   ]
  },
  {
   "cell_type": "code",
   "execution_count": 2,
   "id": "75509ea5",
   "metadata": {},
   "outputs": [],
   "source": [
    "# Save the DataFrame to a CSV file\n",
    "train_df.to_csv('train_data_output.csv', index=False)\n",
    "test_df.to_csv('test_data_output.csv', index=False)\n",
    "\n",
    "# Load the two DataFrames from CSV files\n",
    "df1 = pd.read_csv('test_data_output.csv')\n",
    "df2 = pd.read_csv('train_data_output.csv')\n",
    "\n",
    "# Concatenate the two DataFrames along the rows\n",
    "merged_data = pd.concat([df1, df2], axis=0, ignore_index=True)\n",
    "\n",
    "# Save the concatenated DataFrame to a CSV file\n",
    "merged_data.to_csv('merged_data.csv', index=False)"
   ]
  },
  {
   "cell_type": "code",
   "execution_count": 3,
   "id": "f6e7bf7d",
   "metadata": {},
   "outputs": [],
   "source": [
    "df_merged = pd.read_csv('merged_data.csv')"
   ]
  },
  {
   "cell_type": "code",
   "execution_count": 4,
   "id": "f61e5782",
   "metadata": {
    "scrolled": true
   },
   "outputs": [
    {
     "data": {
      "text/html": [
       "<div>\n",
       "<style scoped>\n",
       "    .dataframe tbody tr th:only-of-type {\n",
       "        vertical-align: middle;\n",
       "    }\n",
       "\n",
       "    .dataframe tbody tr th {\n",
       "        vertical-align: top;\n",
       "    }\n",
       "\n",
       "    .dataframe thead th {\n",
       "        text-align: right;\n",
       "    }\n",
       "</style>\n",
       "<table border=\"1\" class=\"dataframe\">\n",
       "  <thead>\n",
       "    <tr style=\"text-align: right;\">\n",
       "      <th></th>\n",
       "      <th>genre</th>\n",
       "      <th>summary</th>\n",
       "    </tr>\n",
       "  </thead>\n",
       "  <tbody>\n",
       "    <tr>\n",
       "      <th>25943</th>\n",
       "      <td>drama</td>\n",
       "      <td>The concubine of the Minister of Law is driven...</td>\n",
       "    </tr>\n",
       "    <tr>\n",
       "      <th>38863</th>\n",
       "      <td>horror</td>\n",
       "      <td>In Hong Kong, the successful designer Ming liv...</td>\n",
       "    </tr>\n",
       "    <tr>\n",
       "      <th>62027</th>\n",
       "      <td>horror</td>\n",
       "      <td>Jamie Anderson has been dealing with terrible ...</td>\n",
       "    </tr>\n",
       "    <tr>\n",
       "      <th>103093</th>\n",
       "      <td>documentary</td>\n",
       "      <td>An educational video designed for health teach...</td>\n",
       "    </tr>\n",
       "    <tr>\n",
       "      <th>77875</th>\n",
       "      <td>drama</td>\n",
       "      <td>The manger of a suburban swim club gets called...</td>\n",
       "    </tr>\n",
       "    <tr>\n",
       "      <th>...</th>\n",
       "      <td>...</td>\n",
       "      <td>...</td>\n",
       "    </tr>\n",
       "    <tr>\n",
       "      <th>76369</th>\n",
       "      <td>documentary</td>\n",
       "      <td>Perhaps unassumed by most, the ancient Egyptia...</td>\n",
       "    </tr>\n",
       "    <tr>\n",
       "      <th>103985</th>\n",
       "      <td>drama</td>\n",
       "      <td>When the war in Bosnia started in 1984, Omar w...</td>\n",
       "    </tr>\n",
       "    <tr>\n",
       "      <th>18342</th>\n",
       "      <td>drama</td>\n",
       "      <td>The words \"Black Power\" bring back memories of...</td>\n",
       "    </tr>\n",
       "    <tr>\n",
       "      <th>96790</th>\n",
       "      <td>drama</td>\n",
       "      <td>Laura Elliott's quiet life in the wilderness o...</td>\n",
       "    </tr>\n",
       "    <tr>\n",
       "      <th>106853</th>\n",
       "      <td>short</td>\n",
       "      <td>Luke's a London artist and he's thinking about...</td>\n",
       "    </tr>\n",
       "  </tbody>\n",
       "</table>\n",
       "<p>108414 rows × 2 columns</p>\n",
       "</div>"
      ],
      "text/plain": [
       "              genre                                            summary\n",
       "25943         drama  The concubine of the Minister of Law is driven...\n",
       "38863        horror  In Hong Kong, the successful designer Ming liv...\n",
       "62027        horror  Jamie Anderson has been dealing with terrible ...\n",
       "103093  documentary  An educational video designed for health teach...\n",
       "77875         drama  The manger of a suburban swim club gets called...\n",
       "...             ...                                                ...\n",
       "76369   documentary  Perhaps unassumed by most, the ancient Egyptia...\n",
       "103985        drama  When the war in Bosnia started in 1984, Omar w...\n",
       "18342         drama  The words \"Black Power\" bring back memories of...\n",
       "96790         drama  Laura Elliott's quiet life in the wilderness o...\n",
       "106853        short  Luke's a London artist and he's thinking about...\n",
       "\n",
       "[108414 rows x 2 columns]"
      ]
     },
     "execution_count": 4,
     "metadata": {},
     "output_type": "execute_result"
    }
   ],
   "source": [
    "# final data for processing Remove the columns\n",
    "df = df_merged.drop(columns=['id', 'movie'], axis=1)\n",
    "df = df.sample(frac=1)\n",
    "df"
   ]
  },
  {
   "cell_type": "code",
   "execution_count": 5,
   "id": "fa866673",
   "metadata": {},
   "outputs": [
    {
     "data": {
      "text/html": [
       "<div>\n",
       "<style scoped>\n",
       "    .dataframe tbody tr th:only-of-type {\n",
       "        vertical-align: middle;\n",
       "    }\n",
       "\n",
       "    .dataframe tbody tr th {\n",
       "        vertical-align: top;\n",
       "    }\n",
       "\n",
       "    .dataframe thead th {\n",
       "        text-align: right;\n",
       "    }\n",
       "</style>\n",
       "<table border=\"1\" class=\"dataframe\">\n",
       "  <thead>\n",
       "    <tr style=\"text-align: right;\">\n",
       "      <th></th>\n",
       "      <th>genre</th>\n",
       "      <th>summary</th>\n",
       "    </tr>\n",
       "  </thead>\n",
       "  <tbody>\n",
       "    <tr>\n",
       "      <th>25943</th>\n",
       "      <td>drama</td>\n",
       "      <td>The concubine of the Minister of Law is driven...</td>\n",
       "    </tr>\n",
       "    <tr>\n",
       "      <th>38863</th>\n",
       "      <td>horror</td>\n",
       "      <td>In Hong Kong, the successful designer Ming liv...</td>\n",
       "    </tr>\n",
       "    <tr>\n",
       "      <th>62027</th>\n",
       "      <td>horror</td>\n",
       "      <td>Jamie Anderson has been dealing with terrible ...</td>\n",
       "    </tr>\n",
       "    <tr>\n",
       "      <th>103093</th>\n",
       "      <td>documentary</td>\n",
       "      <td>An educational video designed for health teach...</td>\n",
       "    </tr>\n",
       "    <tr>\n",
       "      <th>77875</th>\n",
       "      <td>drama</td>\n",
       "      <td>The manger of a suburban swim club gets called...</td>\n",
       "    </tr>\n",
       "    <tr>\n",
       "      <th>...</th>\n",
       "      <td>...</td>\n",
       "      <td>...</td>\n",
       "    </tr>\n",
       "    <tr>\n",
       "      <th>76369</th>\n",
       "      <td>documentary</td>\n",
       "      <td>Perhaps unassumed by most, the ancient Egyptia...</td>\n",
       "    </tr>\n",
       "    <tr>\n",
       "      <th>103985</th>\n",
       "      <td>drama</td>\n",
       "      <td>When the war in Bosnia started in 1984, Omar w...</td>\n",
       "    </tr>\n",
       "    <tr>\n",
       "      <th>18342</th>\n",
       "      <td>drama</td>\n",
       "      <td>The words \"Black Power\" bring back memories of...</td>\n",
       "    </tr>\n",
       "    <tr>\n",
       "      <th>96790</th>\n",
       "      <td>drama</td>\n",
       "      <td>Laura Elliott's quiet life in the wilderness o...</td>\n",
       "    </tr>\n",
       "    <tr>\n",
       "      <th>106853</th>\n",
       "      <td>short</td>\n",
       "      <td>Luke's a London artist and he's thinking about...</td>\n",
       "    </tr>\n",
       "  </tbody>\n",
       "</table>\n",
       "<p>108414 rows × 2 columns</p>\n",
       "</div>"
      ],
      "text/plain": [
       "              genre                                            summary\n",
       "25943         drama  The concubine of the Minister of Law is driven...\n",
       "38863        horror  In Hong Kong, the successful designer Ming liv...\n",
       "62027        horror  Jamie Anderson has been dealing with terrible ...\n",
       "103093  documentary  An educational video designed for health teach...\n",
       "77875         drama  The manger of a suburban swim club gets called...\n",
       "...             ...                                                ...\n",
       "76369   documentary  Perhaps unassumed by most, the ancient Egyptia...\n",
       "103985        drama  When the war in Bosnia started in 1984, Omar w...\n",
       "18342         drama  The words \"Black Power\" bring back memories of...\n",
       "96790         drama  Laura Elliott's quiet life in the wilderness o...\n",
       "106853        short  Luke's a London artist and he's thinking about...\n",
       "\n",
       "[108414 rows x 2 columns]"
      ]
     },
     "execution_count": 5,
     "metadata": {},
     "output_type": "execute_result"
    }
   ],
   "source": [
    "df"
   ]
  },
  {
   "cell_type": "code",
   "execution_count": 6,
   "id": "bf829ee1",
   "metadata": {},
   "outputs": [],
   "source": [
    "# Data Engineering\n",
    "# Case conversion, Removing special characters, \n",
    "# Removing accents, Normalize spaces\n",
    "\n",
    "from nltk.stem import WordNetLemmatizer\n",
    "\n",
    "# lemmatizer\n",
    "lemmatizer = WordNetLemmatizer()\n",
    "\n",
    "# Remove punctuation\n",
    "df['summary'] = df['summary'].map(lambda x: re.sub('[:,\\.!?-]', '', x))\n",
    "\n",
    "# Convert the titles to lowercase\n",
    "df['summary'] = df['summary'].map(lambda x: x.lower())\n",
    "\n",
    "# # Perform lemmatization\n",
    "df['summary'] = df['summary'].apply(lambda x: ' '.join([lemmatizer.lemmatize(word) for word in x.split()]))\n",
    "\n",
    " # remove accents\n",
    "def remove_accents():\n",
    "    df.summary = [unidecode.unidecode(text) for text in df.summary.values]\n",
    "    \n",
    "# #normalized space  \n",
    "def normalize_spaces():\n",
    "    df.summary = [re.sub(r\"\\s+\",\" \",text) for text in df.summary.values]\n",
    "\n"
   ]
  },
  {
   "cell_type": "code",
   "execution_count": 7,
   "id": "058e26c7",
   "metadata": {},
   "outputs": [
    {
     "data": {
      "text/html": [
       "<div>\n",
       "<style scoped>\n",
       "    .dataframe tbody tr th:only-of-type {\n",
       "        vertical-align: middle;\n",
       "    }\n",
       "\n",
       "    .dataframe tbody tr th {\n",
       "        vertical-align: top;\n",
       "    }\n",
       "\n",
       "    .dataframe thead th {\n",
       "        text-align: right;\n",
       "    }\n",
       "</style>\n",
       "<table border=\"1\" class=\"dataframe\">\n",
       "  <thead>\n",
       "    <tr style=\"text-align: right;\">\n",
       "      <th></th>\n",
       "      <th>genre</th>\n",
       "      <th>summary</th>\n",
       "    </tr>\n",
       "  </thead>\n",
       "  <tbody>\n",
       "    <tr>\n",
       "      <th>25943</th>\n",
       "      <td>drama</td>\n",
       "      <td>the concubine of the minister of law is driven...</td>\n",
       "    </tr>\n",
       "    <tr>\n",
       "      <th>38863</th>\n",
       "      <td>horror</td>\n",
       "      <td>in hong kong the successful designer ming life...</td>\n",
       "    </tr>\n",
       "    <tr>\n",
       "      <th>62027</th>\n",
       "      <td>horror</td>\n",
       "      <td>jamie anderson ha been dealing with terrible n...</td>\n",
       "    </tr>\n",
       "    <tr>\n",
       "      <th>103093</th>\n",
       "      <td>documentary</td>\n",
       "      <td>an educational video designed for health teach...</td>\n",
       "    </tr>\n",
       "    <tr>\n",
       "      <th>77875</th>\n",
       "      <td>drama</td>\n",
       "      <td>the manger of a suburban swim club get called ...</td>\n",
       "    </tr>\n",
       "    <tr>\n",
       "      <th>...</th>\n",
       "      <td>...</td>\n",
       "      <td>...</td>\n",
       "    </tr>\n",
       "    <tr>\n",
       "      <th>76369</th>\n",
       "      <td>documentary</td>\n",
       "      <td>perhaps unassumed by most the ancient egyptian...</td>\n",
       "    </tr>\n",
       "    <tr>\n",
       "      <th>103985</th>\n",
       "      <td>drama</td>\n",
       "      <td>when the war in bosnia started in 1984 omar wa...</td>\n",
       "    </tr>\n",
       "    <tr>\n",
       "      <th>18342</th>\n",
       "      <td>drama</td>\n",
       "      <td>the word \"black power\" bring back memory of na...</td>\n",
       "    </tr>\n",
       "    <tr>\n",
       "      <th>96790</th>\n",
       "      <td>drama</td>\n",
       "      <td>laura elliott's quiet life in the wilderness o...</td>\n",
       "    </tr>\n",
       "    <tr>\n",
       "      <th>106853</th>\n",
       "      <td>short</td>\n",
       "      <td>luke's a london artist and he's thinking about...</td>\n",
       "    </tr>\n",
       "  </tbody>\n",
       "</table>\n",
       "<p>108414 rows × 2 columns</p>\n",
       "</div>"
      ],
      "text/plain": [
       "              genre                                            summary\n",
       "25943         drama  the concubine of the minister of law is driven...\n",
       "38863        horror  in hong kong the successful designer ming life...\n",
       "62027        horror  jamie anderson ha been dealing with terrible n...\n",
       "103093  documentary  an educational video designed for health teach...\n",
       "77875         drama  the manger of a suburban swim club get called ...\n",
       "...             ...                                                ...\n",
       "76369   documentary  perhaps unassumed by most the ancient egyptian...\n",
       "103985        drama  when the war in bosnia started in 1984 omar wa...\n",
       "18342         drama  the word \"black power\" bring back memory of na...\n",
       "96790         drama  laura elliott's quiet life in the wilderness o...\n",
       "106853        short  luke's a london artist and he's thinking about...\n",
       "\n",
       "[108414 rows x 2 columns]"
      ]
     },
     "execution_count": 7,
     "metadata": {},
     "output_type": "execute_result"
    }
   ],
   "source": [
    "df"
   ]
  },
  {
   "cell_type": "code",
   "execution_count": 8,
   "id": "635ce83f",
   "metadata": {},
   "outputs": [],
   "source": [
    "# remove stopwords\n",
    "from gensim.utils import simple_preprocess\n",
    "from nltk.corpus import stopwords\n",
    "stop_words = stopwords.words('english')\n",
    "stop_words.extend(['from', 'subject', 're', 'edu'])\n",
    "\n",
    "def sent_to_words(sentences):\n",
    "    for sentence in sentences:\n",
    "        yield(gensim.utils.simple_preprocess(str(sentence), deacc=True))\n",
    "def remove_stopwords(texts):\n",
    "    return [[word for word in simple_preprocess(str(doc)) \n",
    "             if word not in stop_words] for doc in texts]\n",
    "data = df.summary.values.tolist()\n",
    "data_words = list(sent_to_words(data))\n",
    "\n",
    "# remove stop words\n",
    "df['summary'] = remove_stopwords(data_words)"
   ]
  },
  {
   "cell_type": "code",
   "execution_count": 9,
   "id": "e6c3c0c6",
   "metadata": {},
   "outputs": [
    {
     "data": {
      "image/png": "[encoded data removed]",
      "text/plain": [
       "<PIL.Image.Image image mode=RGB size=400x200 at 0x7FF54EF52460>"
      ]
     },
     "execution_count": 9,
     "metadata": {},
     "output_type": "execute_result"
    }
   ],
   "source": [
    "# Exploratory Analysis\n",
    "\n",
    "# Import the wordcloud library\n",
    "from wordcloud import WordCloud\n",
    "\n",
    "long_string = ','.join(df['summary'].apply(str))\n",
    "\n",
    "# Create a WordCloud object\n",
    "wordcloud = WordCloud(background_color=\"white\", max_words=6000, contour_width=3, contour_color='steelblue')\n",
    "\n",
    "# Generate a word cloud\n",
    "wordcloud.generate(long_string)\n",
    "\n",
    "# Visualize the word cloud\n",
    "wordcloud.to_image()\n"
   ]
  },
  {
   "cell_type": "code",
   "execution_count": 10,
   "id": "d2a50da8",
   "metadata": {},
   "outputs": [
    {
     "data": {
      "image/png": "[encoded data removed]",
      "text/plain": [
       "<Figure size 432x288 with 1 Axes>"
      ]
     },
     "metadata": {
      "needs_background": "light"
     },
     "output_type": "display_data"
    }
   ],
   "source": [
    "import matplotlib.pyplot as plt\n",
    "\n",
    "counts = df['genre'].value_counts()\n",
    "\n",
    "plt.barh(counts.index, counts.values)\n",
    "plt.xlabel('Count')\n",
    "plt.ylabel('Genre')\n",
    "plt.title('Genre Counts')\n",
    "plt.show()"
   ]
  },
  {
   "cell_type": "code",
   "execution_count": 11,
   "id": "ae2a76b1",
   "metadata": {},
   "outputs": [
    {
     "name": "stdout",
     "output_type": "stream",
     "text": [
      "[(0, 1), (1, 1), (2, 1), (3, 1), (4, 1), (5, 1), (6, 2), (7, 1), (8, 1), (9, 1), (10, 1), (11, 1), (12, 1), (13, 1), (14, 1), (15, 1), (16, 2), (17, 1), (18, 1), (19, 1), (20, 2), (21, 1), (22, 1), (23, 2), (24, 1), (25, 2), (26, 1), (27, 6), (28, 1), (29, 1)]\n"
     ]
    }
   ],
   "source": [
    "## tokenizer\n",
    "\n",
    "import gensim.corpora as corpora\n",
    "# Create Dictionary\n",
    "id2word = corpora.Dictionary(data_words)\n",
    "# Create Corpus\n",
    "texts = data_words\n",
    "# Term Document Frequency\n",
    "corpus = [id2word.doc2bow(text) for text in texts]\n",
    "# View\n",
    "print(corpus[:1][0][:30])"
   ]
  },
  {
   "cell_type": "code",
   "execution_count": 12,
   "id": "f6456f74",
   "metadata": {},
   "outputs": [],
   "source": [
    "#split the data for training and test\n",
    "\n",
    "from sklearn.model_selection import train_test_split\n",
    "\n",
    "X = df['summary']\n",
    "y = df['genre']\n",
    "\n",
    "# Split the data into training and testing sets, stratifying by y\n",
    "X_train, X_test, y_train, y_test = train_test_split(X, y, test_size=0.2, stratify=y, random_state=42)"
   ]
  },
  {
   "cell_type": "code",
   "execution_count": 13,
   "id": "37980d95",
   "metadata": {},
   "outputs": [
    {
     "data": {
      "image/png": "[encoded data removed]",
      "text/plain": [
       "<Figure size 576x432 with 1 Axes>"
      ]
     },
     "metadata": {
      "needs_background": "light"
     },
     "output_type": "display_data"
    }
   ],
   "source": [
    "train_counts = y_train.value_counts()\n",
    "test_counts = y_test.value_counts()\n",
    "\n",
    "fig, ax = plt.subplots(figsize=(8,6))\n",
    "ax.bar(train_counts.index, train_counts.values, alpha=0.5, label='Train')\n",
    "ax.bar(test_counts.index, test_counts.values, alpha=0.5, label='Test')\n",
    "ax.set_xlabel('Genre')\n",
    "ax.set_ylabel('Count')\n",
    "ax.set_title('Distribution of Genres in Train/Test Sets')\n",
    "ax.legend()\n",
    "plt.show()\n"
   ]
  },
  {
   "cell_type": "code",
   "execution_count": 14,
   "id": "39c141db",
   "metadata": {
    "scrolled": true
   },
   "outputs": [
    {
     "data": {
      "text/plain": [
       "24717    [canadian, aboriginal, music, award, starstudd...\n",
       "23005    [three, girl, christine, white, irene, anders,...\n",
       "51881    [two, decade, prison, widmer, former, german, ...\n",
       "117      [year, old, boy, peering, steering, wheel, dri...\n",
       "23857    [vast, area, american, prairie, tell, story, y...\n",
       "Name: summary, dtype: object"
      ]
     },
     "execution_count": 14,
     "metadata": {},
     "output_type": "execute_result"
    }
   ],
   "source": [
    "X_train.head()"
   ]
  },
  {
   "cell_type": "code",
   "execution_count": 15,
   "id": "c0499074",
   "metadata": {},
   "outputs": [
    {
     "data": {
      "text/plain": [
       "24717          music\n",
       "23005          drama\n",
       "51881          drama\n",
       "117            short\n",
       "23857    documentary\n",
       "Name: genre, dtype: object"
      ]
     },
     "execution_count": 15,
     "metadata": {},
     "output_type": "execute_result"
    }
   ],
   "source": [
    "y_train.head()"
   ]
  },
  {
   "cell_type": "code",
   "execution_count": 16,
   "id": "ae562a41",
   "metadata": {},
   "outputs": [
    {
     "data": {
      "text/plain": [
       "30555    [thing, hard, talk, personal, documentary, sec...\n",
       "48209    [history, america, famous, symbol, conception,...\n",
       "78199    [sowan, feel, bored, lonely, stayathome, wife,...\n",
       "32370    [la, pelicula, cuenta, la, historia, de, tres,...\n",
       "7464     [saroj, dave, leaf, home, mountain, view, cali...\n",
       "Name: summary, dtype: object"
      ]
     },
     "execution_count": 16,
     "metadata": {},
     "output_type": "execute_result"
    }
   ],
   "source": [
    "X_test.head()"
   ]
  },
  {
   "cell_type": "code",
   "execution_count": 17,
   "id": "a0af7314",
   "metadata": {},
   "outputs": [
    {
     "data": {
      "text/plain": [
       "30555    documentary\n",
       "48209    documentary\n",
       "78199          drama\n",
       "32370         comedy\n",
       "7464     documentary\n",
       "Name: genre, dtype: object"
      ]
     },
     "execution_count": 17,
     "metadata": {},
     "output_type": "execute_result"
    }
   ],
   "source": [
    "y_test.head()"
   ]
  },
  {
   "cell_type": "code",
   "execution_count": 18,
   "id": "a395aad1",
   "metadata": {
    "scrolled": true
   },
   "outputs": [
    {
     "data": {
      "text/plain": [
       "['three',\n",
       " 'girl',\n",
       " 'christine',\n",
       " 'white',\n",
       " 'irene',\n",
       " 'anders',\n",
       " 'coleen',\n",
       " 'miller',\n",
       " 'living',\n",
       " 'small',\n",
       " 'dull',\n",
       " 'town',\n",
       " 'dream',\n",
       " 'glamour',\n",
       " 'excitement',\n",
       " 'think',\n",
       " 'becomes',\n",
       " 'reality',\n",
       " 'discover',\n",
       " 'illegal',\n",
       " 'money',\n",
       " 'hidden',\n",
       " 'one',\n",
       " 'employer',\n",
       " 'take',\n",
       " 'money',\n",
       " 'go',\n",
       " 'hollywood',\n",
       " 'buy',\n",
       " 'car',\n",
       " 'clothes',\n",
       " 'rent',\n",
       " 'elaborate',\n",
       " 'house',\n",
       " 'meet',\n",
       " 'boy',\n",
       " 'one',\n",
       " 'eventually',\n",
       " 'prof',\n",
       " 'downfall',\n",
       " 'man',\n",
       " 'wa',\n",
       " 'robbed',\n",
       " 'find',\n",
       " 'happy']"
      ]
     },
     "execution_count": 18,
     "metadata": {},
     "output_type": "execute_result"
    }
   ],
   "source": [
    "X_train.values[1]"
   ]
  },
  {
   "cell_type": "code",
   "execution_count": 19,
   "id": "10d03f49",
   "metadata": {},
   "outputs": [
    {
     "data": {
      "text/plain": [
       "25943           drama\n",
       "38863          horror\n",
       "62027          horror\n",
       "103093    documentary\n",
       "77875           drama\n",
       "Name: genre, dtype: object"
      ]
     },
     "execution_count": 19,
     "metadata": {},
     "output_type": "execute_result"
    }
   ],
   "source": [
    "df['genre'].head()"
   ]
  },
  {
   "cell_type": "code",
   "execution_count": 20,
   "id": "c82f79cd",
   "metadata": {},
   "outputs": [
    {
     "data": {
      "text/html": [
       "<div>\n",
       "<style scoped>\n",
       "    .dataframe tbody tr th:only-of-type {\n",
       "        vertical-align: middle;\n",
       "    }\n",
       "\n",
       "    .dataframe tbody tr th {\n",
       "        vertical-align: top;\n",
       "    }\n",
       "\n",
       "    .dataframe thead th {\n",
       "        text-align: right;\n",
       "    }\n",
       "</style>\n",
       "<table border=\"1\" class=\"dataframe\">\n",
       "  <thead>\n",
       "    <tr style=\"text-align: right;\">\n",
       "      <th></th>\n",
       "      <th>genre</th>\n",
       "      <th>summary</th>\n",
       "    </tr>\n",
       "  </thead>\n",
       "  <tbody>\n",
       "    <tr>\n",
       "      <th>25943</th>\n",
       "      <td>drama</td>\n",
       "      <td>[concubine, minister, law, driven, house, moth...</td>\n",
       "    </tr>\n",
       "    <tr>\n",
       "      <th>38863</th>\n",
       "      <td>horror</td>\n",
       "      <td>[hong, kong, successful, designer, ming, life,...</td>\n",
       "    </tr>\n",
       "    <tr>\n",
       "      <th>62027</th>\n",
       "      <td>horror</td>\n",
       "      <td>[jamie, anderson, ha, dealing, terrible, night...</td>\n",
       "    </tr>\n",
       "    <tr>\n",
       "      <th>103093</th>\n",
       "      <td>documentary</td>\n",
       "      <td>[educational, video, designed, health, teacher...</td>\n",
       "    </tr>\n",
       "    <tr>\n",
       "      <th>77875</th>\n",
       "      <td>drama</td>\n",
       "      <td>[manger, suburban, swim, club, get, called, wo...</td>\n",
       "    </tr>\n",
       "  </tbody>\n",
       "</table>\n",
       "</div>"
      ],
      "text/plain": [
       "              genre                                            summary\n",
       "25943         drama  [concubine, minister, law, driven, house, moth...\n",
       "38863        horror  [hong, kong, successful, designer, ming, life,...\n",
       "62027        horror  [jamie, anderson, ha, dealing, terrible, night...\n",
       "103093  documentary  [educational, video, designed, health, teacher...\n",
       "77875         drama  [manger, suburban, swim, club, get, called, wo..."
      ]
     },
     "execution_count": 20,
     "metadata": {},
     "output_type": "execute_result"
    }
   ],
   "source": [
    "df.head()"
   ]
  },
  {
   "cell_type": "code",
   "execution_count": 91,
   "id": "3dfe1d9b",
   "metadata": {},
   "outputs": [
    {
     "data": {
      "text/plain": [
       "(108414, 2)"
      ]
     },
     "execution_count": 91,
     "metadata": {},
     "output_type": "execute_result"
    }
   ],
   "source": [
    "df.shape"
   ]
  },
  {
   "cell_type": "code",
   "execution_count": 48,
   "id": "7db02c22",
   "metadata": {},
   "outputs": [],
   "source": [
    "df_test=df"
   ]
  },
  {
   "cell_type": "code",
   "execution_count": 49,
   "id": "6fadc5b4",
   "metadata": {},
   "outputs": [
    {
     "data": {
      "text/html": [
       "<div>\n",
       "<style scoped>\n",
       "    .dataframe tbody tr th:only-of-type {\n",
       "        vertical-align: middle;\n",
       "    }\n",
       "\n",
       "    .dataframe tbody tr th {\n",
       "        vertical-align: top;\n",
       "    }\n",
       "\n",
       "    .dataframe thead th {\n",
       "        text-align: right;\n",
       "    }\n",
       "</style>\n",
       "<table border=\"1\" class=\"dataframe\">\n",
       "  <thead>\n",
       "    <tr style=\"text-align: right;\">\n",
       "      <th></th>\n",
       "      <th>genre</th>\n",
       "      <th>summary</th>\n",
       "    </tr>\n",
       "  </thead>\n",
       "  <tbody>\n",
       "    <tr>\n",
       "      <th>25943</th>\n",
       "      <td>drama</td>\n",
       "      <td>[concubine, minister, law, driven, house, moth...</td>\n",
       "    </tr>\n",
       "    <tr>\n",
       "      <th>38863</th>\n",
       "      <td>horror</td>\n",
       "      <td>[hong, kong, successful, designer, ming, life,...</td>\n",
       "    </tr>\n",
       "    <tr>\n",
       "      <th>62027</th>\n",
       "      <td>horror</td>\n",
       "      <td>[jamie, anderson, ha, dealing, terrible, night...</td>\n",
       "    </tr>\n",
       "    <tr>\n",
       "      <th>103093</th>\n",
       "      <td>documentary</td>\n",
       "      <td>[educational, video, designed, health, teacher...</td>\n",
       "    </tr>\n",
       "    <tr>\n",
       "      <th>77875</th>\n",
       "      <td>drama</td>\n",
       "      <td>[manger, suburban, swim, club, get, called, wo...</td>\n",
       "    </tr>\n",
       "    <tr>\n",
       "      <th>...</th>\n",
       "      <td>...</td>\n",
       "      <td>...</td>\n",
       "    </tr>\n",
       "    <tr>\n",
       "      <th>76369</th>\n",
       "      <td>documentary</td>\n",
       "      <td>[perhaps, unassumed, ancient, egyptian, unique...</td>\n",
       "    </tr>\n",
       "    <tr>\n",
       "      <th>103985</th>\n",
       "      <td>drama</td>\n",
       "      <td>[war, bosnia, started, omar, wa, year, old, ch...</td>\n",
       "    </tr>\n",
       "    <tr>\n",
       "      <th>18342</th>\n",
       "      <td>drama</td>\n",
       "      <td>[word, black, power, bring, back, memory, name...</td>\n",
       "    </tr>\n",
       "    <tr>\n",
       "      <th>96790</th>\n",
       "      <td>drama</td>\n",
       "      <td>[laura, elliott, quiet, life, wilderness, deso...</td>\n",
       "    </tr>\n",
       "    <tr>\n",
       "      <th>106853</th>\n",
       "      <td>short</td>\n",
       "      <td>[luke, london, artist, thinking, giving, hit, ...</td>\n",
       "    </tr>\n",
       "  </tbody>\n",
       "</table>\n",
       "<p>108414 rows × 2 columns</p>\n",
       "</div>"
      ],
      "text/plain": [
       "              genre                                            summary\n",
       "25943         drama  [concubine, minister, law, driven, house, moth...\n",
       "38863        horror  [hong, kong, successful, designer, ming, life,...\n",
       "62027        horror  [jamie, anderson, ha, dealing, terrible, night...\n",
       "103093  documentary  [educational, video, designed, health, teacher...\n",
       "77875         drama  [manger, suburban, swim, club, get, called, wo...\n",
       "...             ...                                                ...\n",
       "76369   documentary  [perhaps, unassumed, ancient, egyptian, unique...\n",
       "103985        drama  [war, bosnia, started, omar, wa, year, old, ch...\n",
       "18342         drama  [word, black, power, bring, back, memory, name...\n",
       "96790         drama  [laura, elliott, quiet, life, wilderness, deso...\n",
       "106853        short  [luke, london, artist, thinking, giving, hit, ...\n",
       "\n",
       "[108414 rows x 2 columns]"
      ]
     },
     "execution_count": 49,
     "metadata": {},
     "output_type": "execute_result"
    }
   ],
   "source": [
    "df_test"
   ]
  },
  {
   "cell_type": "code",
   "execution_count": 50,
   "id": "1863d982",
   "metadata": {},
   "outputs": [
    {
     "data": {
      "text/plain": [
       "pandas.core.frame.DataFrame"
      ]
     },
     "execution_count": 50,
     "metadata": {},
     "output_type": "execute_result"
    }
   ],
   "source": [
    "type(df_test)"
   ]
  },
  {
   "cell_type": "code",
   "execution_count": 51,
   "id": "d137a9eb",
   "metadata": {},
   "outputs": [],
   "source": [
    "import pandas as pd"
   ]
  },
  {
   "cell_type": "code",
   "execution_count": 52,
   "id": "d7c88d99",
   "metadata": {
    "scrolled": true
   },
   "outputs": [
    {
     "data": {
      "text/plain": [
       "25943     [concubine, minister, law, driven, house, moth...\n",
       "38863     [hong, kong, successful, designer, ming, life,...\n",
       "62027     [jamie, anderson, ha, dealing, terrible, night...\n",
       "103093    [educational, video, designed, health, teacher...\n",
       "77875     [manger, suburban, swim, club, get, called, wo...\n",
       "                                ...                        \n",
       "76369     [perhaps, unassumed, ancient, egyptian, unique...\n",
       "103985    [war, bosnia, started, omar, wa, year, old, ch...\n",
       "18342     [word, black, power, bring, back, memory, name...\n",
       "96790     [laura, elliott, quiet, life, wilderness, deso...\n",
       "106853    [luke, london, artist, thinking, giving, hit, ...\n",
       "Name: summary, Length: 108414, dtype: object"
      ]
     },
     "execution_count": 52,
     "metadata": {},
     "output_type": "execute_result"
    }
   ],
   "source": [
    "df_test['summary']"
   ]
  },
  {
   "cell_type": "code",
   "execution_count": 53,
   "id": "2fb0fcd2",
   "metadata": {},
   "outputs": [],
   "source": [
    "df_test['summary_str'] = df_test['summary'].apply(' '.join)"
   ]
  },
  {
   "cell_type": "code",
   "execution_count": 54,
   "id": "27d51a46",
   "metadata": {},
   "outputs": [
    {
     "data": {
      "text/html": [
       "<div>\n",
       "<style scoped>\n",
       "    .dataframe tbody tr th:only-of-type {\n",
       "        vertical-align: middle;\n",
       "    }\n",
       "\n",
       "    .dataframe tbody tr th {\n",
       "        vertical-align: top;\n",
       "    }\n",
       "\n",
       "    .dataframe thead th {\n",
       "        text-align: right;\n",
       "    }\n",
       "</style>\n",
       "<table border=\"1\" class=\"dataframe\">\n",
       "  <thead>\n",
       "    <tr style=\"text-align: right;\">\n",
       "      <th></th>\n",
       "      <th>genre</th>\n",
       "      <th>summary_str</th>\n",
       "    </tr>\n",
       "  </thead>\n",
       "  <tbody>\n",
       "    <tr>\n",
       "      <th>25943</th>\n",
       "      <td>drama</td>\n",
       "      <td>concubine minister law driven house motherinla...</td>\n",
       "    </tr>\n",
       "    <tr>\n",
       "      <th>38863</th>\n",
       "      <td>horror</td>\n",
       "      <td>hong kong successful designer ming life belove...</td>\n",
       "    </tr>\n",
       "    <tr>\n",
       "      <th>62027</th>\n",
       "      <td>horror</td>\n",
       "      <td>jamie anderson ha dealing terrible nightmare g...</td>\n",
       "    </tr>\n",
       "    <tr>\n",
       "      <th>103093</th>\n",
       "      <td>documentary</td>\n",
       "      <td>educational video designed health teacher movi...</td>\n",
       "    </tr>\n",
       "    <tr>\n",
       "      <th>77875</th>\n",
       "      <td>drama</td>\n",
       "      <td>manger suburban swim club get called work day ...</td>\n",
       "    </tr>\n",
       "    <tr>\n",
       "      <th>...</th>\n",
       "      <td>...</td>\n",
       "      <td>...</td>\n",
       "    </tr>\n",
       "    <tr>\n",
       "      <th>76369</th>\n",
       "      <td>documentary</td>\n",
       "      <td>perhaps unassumed ancient egyptian unique atti...</td>\n",
       "    </tr>\n",
       "    <tr>\n",
       "      <th>103985</th>\n",
       "      <td>drama</td>\n",
       "      <td>war bosnia started omar wa year old christian ...</td>\n",
       "    </tr>\n",
       "    <tr>\n",
       "      <th>18342</th>\n",
       "      <td>drama</td>\n",
       "      <td>word black power bring back memory name like s...</td>\n",
       "    </tr>\n",
       "    <tr>\n",
       "      <th>96790</th>\n",
       "      <td>drama</td>\n",
       "      <td>laura elliott quiet life wilderness desolation...</td>\n",
       "    </tr>\n",
       "    <tr>\n",
       "      <th>106853</th>\n",
       "      <td>short</td>\n",
       "      <td>luke london artist thinking giving hit ten yea...</td>\n",
       "    </tr>\n",
       "  </tbody>\n",
       "</table>\n",
       "<p>108414 rows × 2 columns</p>\n",
       "</div>"
      ],
      "text/plain": [
       "              genre                                        summary_str\n",
       "25943         drama  concubine minister law driven house motherinla...\n",
       "38863        horror  hong kong successful designer ming life belove...\n",
       "62027        horror  jamie anderson ha dealing terrible nightmare g...\n",
       "103093  documentary  educational video designed health teacher movi...\n",
       "77875         drama  manger suburban swim club get called work day ...\n",
       "...             ...                                                ...\n",
       "76369   documentary  perhaps unassumed ancient egyptian unique atti...\n",
       "103985        drama  war bosnia started omar wa year old christian ...\n",
       "18342         drama  word black power bring back memory name like s...\n",
       "96790         drama  laura elliott quiet life wilderness desolation...\n",
       "106853        short  luke london artist thinking giving hit ten yea...\n",
       "\n",
       "[108414 rows x 2 columns]"
      ]
     },
     "execution_count": 54,
     "metadata": {},
     "output_type": "execute_result"
    }
   ],
   "source": [
    "df_test.drop(columns=['summary'])"
   ]
  },
  {
   "cell_type": "code",
   "execution_count": 55,
   "id": "48624aa9",
   "metadata": {},
   "outputs": [],
   "source": [
    "df_group_test=df_test.groupby(['genre']).agg({'summary_str':lambda x: ' '.join(x)})"
   ]
  },
  {
   "cell_type": "code",
   "execution_count": 56,
   "id": "2a9d1eaf",
   "metadata": {
    "scrolled": true
   },
   "outputs": [
    {
     "data": {
      "text/html": [
       "<div>\n",
       "<style scoped>\n",
       "    .dataframe tbody tr th:only-of-type {\n",
       "        vertical-align: middle;\n",
       "    }\n",
       "\n",
       "    .dataframe tbody tr th {\n",
       "        vertical-align: top;\n",
       "    }\n",
       "\n",
       "    .dataframe thead th {\n",
       "        text-align: right;\n",
       "    }\n",
       "</style>\n",
       "<table border=\"1\" class=\"dataframe\">\n",
       "  <thead>\n",
       "    <tr style=\"text-align: right;\">\n",
       "      <th></th>\n",
       "      <th>summary_str</th>\n",
       "    </tr>\n",
       "    <tr>\n",
       "      <th>genre</th>\n",
       "      <th></th>\n",
       "    </tr>\n",
       "  </thead>\n",
       "  <tbody>\n",
       "    <tr>\n",
       "      <th>action</th>\n",
       "      <td>one man travel across country smuggling illega...</td>\n",
       "    </tr>\n",
       "    <tr>\n",
       "      <th>adult</th>\n",
       "      <td>lovely bride equally beautiful bridesmaid shoc...</td>\n",
       "    </tr>\n",
       "    <tr>\n",
       "      <th>adventure</th>\n",
       "      <td>story man possessed power life death men comma...</td>\n",
       "    </tr>\n",
       "    <tr>\n",
       "      <th>animation</th>\n",
       "      <td>popples animated highenergy children comedy se...</td>\n",
       "    </tr>\n",
       "    <tr>\n",
       "      <th>biography</th>\n",
       "      <td>biopic famous spanish folk singer lola flores ...</td>\n",
       "    </tr>\n",
       "    <tr>\n",
       "      <th>comedy</th>\n",
       "      <td>two millennial stoner navigate bizarre world c...</td>\n",
       "    </tr>\n",
       "    <tr>\n",
       "      <th>crime</th>\n",
       "      <td>thermal town la bourboule man found dead kille...</td>\n",
       "    </tr>\n",
       "    <tr>\n",
       "      <th>documentary</th>\n",
       "      <td>educational video designed health teacher movi...</td>\n",
       "    </tr>\n",
       "    <tr>\n",
       "      <th>drama</th>\n",
       "      <td>concubine minister law driven house motherinla...</td>\n",
       "    </tr>\n",
       "    <tr>\n",
       "      <th>family</th>\n",
       "      <td>short video built around several short loop ho...</td>\n",
       "    </tr>\n",
       "    <tr>\n",
       "      <th>fantasy</th>\n",
       "      <td>drama adapted popular girl comic tell story or...</td>\n",
       "    </tr>\n",
       "    <tr>\n",
       "      <th>game-show</th>\n",
       "      <td>summer replacement show rewarded people perfor...</td>\n",
       "    </tr>\n",
       "    <tr>\n",
       "      <th>history</th>\n",
       "      <td>according chinese calendar assigned one twelve...</td>\n",
       "    </tr>\n",
       "    <tr>\n",
       "      <th>horror</th>\n",
       "      <td>hong kong successful designer ming life belove...</td>\n",
       "    </tr>\n",
       "    <tr>\n",
       "      <th>music</th>\n",
       "      <td>got gig interview series produced jammcard inc...</td>\n",
       "    </tr>\n",
       "    <tr>\n",
       "      <th>musical</th>\n",
       "      <td>filmed live stage pantages theatre hollywood c...</td>\n",
       "    </tr>\n",
       "    <tr>\n",
       "      <th>mystery</th>\n",
       "      <td>doctor also mentalist confesses murder problem...</td>\n",
       "    </tr>\n",
       "    <tr>\n",
       "      <th>news</th>\n",
       "      <td>stump strut strike pose new set fresh face fas...</td>\n",
       "    </tr>\n",
       "    <tr>\n",
       "      <th>reality-tv</th>\n",
       "      <td>parker schnabel friend pay tribute legend atte...</td>\n",
       "    </tr>\n",
       "    <tr>\n",
       "      <th>romance</th>\n",
       "      <td>katherine mitchell linda thorson widowed yet v...</td>\n",
       "    </tr>\n",
       "    <tr>\n",
       "      <th>sci-fi</th>\n",
       "      <td>shawn mchenry friend riff stargazer always dre...</td>\n",
       "    </tr>\n",
       "    <tr>\n",
       "      <th>short</th>\n",
       "      <td>rogers america unofficial ambassador abroad in...</td>\n",
       "    </tr>\n",
       "    <tr>\n",
       "      <th>sport</th>\n",
       "      <td>tell incredible story one football greatest tr...</td>\n",
       "    </tr>\n",
       "    <tr>\n",
       "      <th>talk-show</th>\n",
       "      <td>filmed gilley texas cafe branson mo gilley pla...</td>\n",
       "    </tr>\n",
       "    <tr>\n",
       "      <th>thriller</th>\n",
       "      <td>group friend london callan rachel marcus john ...</td>\n",
       "    </tr>\n",
       "    <tr>\n",
       "      <th>war</th>\n",
       "      <td>japanese ha invaded far china defeating kuomin...</td>\n",
       "    </tr>\n",
       "    <tr>\n",
       "      <th>western</th>\n",
       "      <td>angel city misnomer gang outlaw largely contro...</td>\n",
       "    </tr>\n",
       "  </tbody>\n",
       "</table>\n",
       "</div>"
      ],
      "text/plain": [
       "                                                   summary_str\n",
       "genre                                                         \n",
       "action       one man travel across country smuggling illega...\n",
       "adult        lovely bride equally beautiful bridesmaid shoc...\n",
       "adventure    story man possessed power life death men comma...\n",
       "animation    popples animated highenergy children comedy se...\n",
       "biography    biopic famous spanish folk singer lola flores ...\n",
       "comedy       two millennial stoner navigate bizarre world c...\n",
       "crime        thermal town la bourboule man found dead kille...\n",
       "documentary  educational video designed health teacher movi...\n",
       "drama        concubine minister law driven house motherinla...\n",
       "family       short video built around several short loop ho...\n",
       "fantasy      drama adapted popular girl comic tell story or...\n",
       "game-show    summer replacement show rewarded people perfor...\n",
       "history      according chinese calendar assigned one twelve...\n",
       "horror       hong kong successful designer ming life belove...\n",
       "music        got gig interview series produced jammcard inc...\n",
       "musical      filmed live stage pantages theatre hollywood c...\n",
       "mystery      doctor also mentalist confesses murder problem...\n",
       "news         stump strut strike pose new set fresh face fas...\n",
       "reality-tv   parker schnabel friend pay tribute legend atte...\n",
       "romance      katherine mitchell linda thorson widowed yet v...\n",
       "sci-fi       shawn mchenry friend riff stargazer always dre...\n",
       "short        rogers america unofficial ambassador abroad in...\n",
       "sport        tell incredible story one football greatest tr...\n",
       "talk-show    filmed gilley texas cafe branson mo gilley pla...\n",
       "thriller     group friend london callan rachel marcus john ...\n",
       "war          japanese ha invaded far china defeating kuomin...\n",
       "western      angel city misnomer gang outlaw largely contro..."
      ]
     },
     "execution_count": 56,
     "metadata": {},
     "output_type": "execute_result"
    }
   ],
   "source": [
    "df_group_test"
   ]
  },
  {
   "cell_type": "code",
   "execution_count": 57,
   "id": "20378e1e",
   "metadata": {},
   "outputs": [],
   "source": [
    "df_group_test.to_csv('grouped_test.csv', index=False)"
   ]
  },
  {
   "cell_type": "code",
   "execution_count": 58,
   "id": "7f8fbbdc",
   "metadata": {},
   "outputs": [],
   "source": [
    "df_test.to_csv('bf_grouped_test.csv', index=False)"
   ]
  },
  {
   "cell_type": "code",
   "execution_count": 59,
   "id": "00222fa1",
   "metadata": {},
   "outputs": [
    {
     "data": {
      "text/plain": [
       "<bound method NDFrame.head of                                                    summary_str\n",
       "genre                                                         \n",
       "action       one man travel across country smuggling illega...\n",
       "adult        lovely bride equally beautiful bridesmaid shoc...\n",
       "adventure    story man possessed power life death men comma...\n",
       "animation    popples animated highenergy children comedy se...\n",
       "biography    biopic famous spanish folk singer lola flores ...\n",
       "comedy       two millennial stoner navigate bizarre world c...\n",
       "crime        thermal town la bourboule man found dead kille...\n",
       "documentary  educational video designed health teacher movi...\n",
       "drama        concubine minister law driven house motherinla...\n",
       "family       short video built around several short loop ho...\n",
       "fantasy      drama adapted popular girl comic tell story or...\n",
       "game-show    summer replacement show rewarded people perfor...\n",
       "history      according chinese calendar assigned one twelve...\n",
       "horror       hong kong successful designer ming life belove...\n",
       "music        got gig interview series produced jammcard inc...\n",
       "musical      filmed live stage pantages theatre hollywood c...\n",
       "mystery      doctor also mentalist confesses murder problem...\n",
       "news         stump strut strike pose new set fresh face fas...\n",
       "reality-tv   parker schnabel friend pay tribute legend atte...\n",
       "romance      katherine mitchell linda thorson widowed yet v...\n",
       "sci-fi       shawn mchenry friend riff stargazer always dre...\n",
       "short        rogers america unofficial ambassador abroad in...\n",
       "sport        tell incredible story one football greatest tr...\n",
       "talk-show    filmed gilley texas cafe branson mo gilley pla...\n",
       "thriller     group friend london callan rachel marcus john ...\n",
       "war          japanese ha invaded far china defeating kuomin...\n",
       "western      angel city misnomer gang outlaw largely contro...>"
      ]
     },
     "execution_count": 59,
     "metadata": {},
     "output_type": "execute_result"
    }
   ],
   "source": [
    "df_group_test.head"
   ]
  },
  {
   "cell_type": "code",
   "execution_count": 60,
   "id": "d4c4cbe8",
   "metadata": {},
   "outputs": [
    {
     "data": {
      "text/plain": [
       "(27, 1)"
      ]
     },
     "execution_count": 60,
     "metadata": {},
     "output_type": "execute_result"
    }
   ],
   "source": [
    "df_group_test.shape"
   ]
  },
  {
   "cell_type": "code",
   "execution_count": 70,
   "id": "4688c800",
   "metadata": {},
   "outputs": [],
   "source": [
    "import matplotlib.pyplot as plt\n",
    "from wordcloud import WordCloud, STOPWORDS\n",
    "# Remove common stopwords\n",
    "stopwords = set(STOPWORDS)\n",
    "stopwords.update(['ha', 'wa','film','one','life'])"
   ]
  },
  {
   "cell_type": "code",
   "execution_count": 71,
   "id": "f6092234",
   "metadata": {},
   "outputs": [
    {
     "name": "stdout",
     "output_type": "stream",
     "text": [
      "action      {'find': 669, 'world': 490, 'take': 460}\n",
      "adult      {'sex': 363, 'woman': 324, 'girl': 319}\n",
      "adventure      {'find': 360, 'world': 322, 'take': 248}\n",
      "animation      {'world': 299, 'friend': 238, 'story': 213}\n",
      "biography      {'story': 166, 'world': 116, 'first': 105}\n",
      "comedy      {'find': 2378, 'new': 2133, 'friend': 2035}\n",
      "crime      {'find': 258, 'crime': 249, 'murder': 236}\n",
      "documentary      {'world': 4899, 'story': 4390, 'people': 4164}\n",
      "drama      {'family': 5881, 'father': 5540, 'love': 4384}\n",
      "family      {'family': 530, 'child': 396, 'new': 347}\n",
      "fantasy      {'world': 282, 'find': 185, 'story': 150}\n",
      "game-show      {'contestant': 565, 'game': 277, 'team': 274}\n",
      "history      {'story': 173, 'history': 148, 'new': 106}\n",
      "horror      {'find': 1075, 'house': 932, 'friend': 764}\n",
      "music      {'music': 654, 'show': 499, 'band': 495}\n",
      "musical      {'musical': 172, 'music': 163, 'show': 146}\n",
      "mystery      {'find': 204, 'murder': 191, 'man': 152}\n",
      "news      {'new': 261, 'show': 130, 'world': 71}\n",
      "reality-tv      {'show': 621, 'new': 393, 'team': 331}\n",
      "romance      {'love': 858, 'meet': 466, 'find': 431}\n",
      "sci-fi      {'world': 443, 'earth': 390, 'alien': 293}\n",
      "short      {'world': 1434, 'time': 1367, 'man': 1296}\n",
      "sport      {'game': 232, 'team': 217, 'sport': 216}\n",
      "talk-show      {'show': 462, 'new': 214, 'host': 195}\n",
      "thriller      {'find': 838, 'family': 539, 'new': 507}\n",
      "war      {'war': 130, 'german': 101, 'army': 93}\n",
      "western      {'gang': 741, 'find': 687, 'ranch': 684}\n"
     ]
    }
   ],
   "source": [
    "def mostfreqword(text):\n",
    "    wordcloud = WordCloud(stopwords=stopwords).generate(text)\n",
    "    my_dict=wordcloud.process_text(text)\n",
    "    sorted_dict = {k: v for k, v in sorted(my_dict.items(), key=lambda item: item[1], reverse=True)[:3]}\n",
    "    return sorted_dict\n",
    "\n",
    "for index, row in df_group_test.iterrows():\n",
    "    words=df_group_test.loc[index,'summary_str']\n",
    "    print(index,\"    \",mostfreqword(words))"
   ]
  },
  {
   "cell_type": "code",
   "execution_count": null,
   "id": "839f29ab",
   "metadata": {},
   "outputs": [],
   "source": []
  }
 ],
 "metadata": {
  "kernelspec": {
   "display_name": "Python 3 (ipykernel)",
   "language": "python",
   "name": "python3"
  },
  "language_info": {
   "codemirror_mode": {
    "name": "ipython",
    "version": 3
   },
   "file_extension": ".py",
   "mimetype": "text/x-python",
   "name": "python",
   "nbconvert_exporter": "python",
   "pygments_lexer": "ipython3",
   "version": "3.9.12"
  }
 },
 "nbformat": 4,
 "nbformat_minor": 5
}
